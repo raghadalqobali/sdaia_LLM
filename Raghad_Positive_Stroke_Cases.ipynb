{
  "cells": [
    {
      "cell_type": "markdown",
      "metadata": {
        "id": "0g2RQRSltgja"
      },
      "source": [
        "# Full DL Solution\n",
        "---\n",
        "### **Case Study:** Stroke Prediction\n",
        "\n",
        "**Objective:** The goal of this project is to walk you through a case study where you can apply the deep learning concepts that you learned about during the week. By the end of this project, you would have developed a solution that predicts if a person will have a stroke or not.\n"
      ]
    },
    {
      "cell_type": "markdown",
      "metadata": {
        "id": "SSCD88NxJjFo"
      },
      "source": [
        "**Dataset Explanation:** We will be using the stroke dataset. Its features are:\n",
        "\n",
        "\n",
        "* **id:** unique identifier\n",
        "* **gender:** \"Male\", \"Female\" or \"Other\"\n",
        "* **age:** age of the patient\n",
        "* **hypertension:** 0 if the patient doesn't have hypertension, 1 if the patient has hypertension\n",
        "* **heart_disease:** 0 if the patient doesn't have any heart diseases, 1 if the patient has a heart disease\n",
        "* **ever_married:** \"No\" or \"Yes\"\n",
        "* **work_type:** \"children\", \"Govt_jov\", \"Never_worked\", \"Private\" or \"Self-employed\"\n",
        "* **Residence_type:** \"Rural\" or \"Urban\"\n",
        "* **avg_glucose_level:** average glucose level in blood\n",
        "* **bmi:** body mass index\n",
        "* **smoking_status:** \"formerly smoked\", \"never smoked\", \"smokes\" or \"Unknown\"*\n",
        "* **stroke:** 1 if the patient had a stroke or 0 if not"
      ]
    },
    {
      "cell_type": "markdown",
      "metadata": {
        "id": "gBvX5nCYt8cT"
      },
      "source": [
        "# Importing Libraries"
      ]
    },
    {
      "cell_type": "markdown",
      "metadata": {
        "id": "JaPfsfvXK2_0"
      },
      "source": [
        "We start by importing the libraries"
      ]
    },
    {
      "cell_type": "code",
      "execution_count": 2,
      "metadata": {
        "id": "oK92M0m-ezbE"
      },
      "outputs": [],
      "source": [
        "import warnings\n",
        "warnings.filterwarnings('ignore')"
      ]
    },
    {
      "cell_type": "code",
      "execution_count": 3,
      "metadata": {
        "id": "mMQuUG7OtfrG"
      },
      "outputs": [],
      "source": [
        "import numpy as np\n",
        "import pandas as pd\n",
        "import matplotlib.pyplot as plt"
      ]
    },
    {
      "cell_type": "markdown",
      "metadata": {
        "id": "0-RxAH5auFFy"
      },
      "source": [
        "# Loading the Dataset"
      ]
    },
    {
      "cell_type": "markdown",
      "metadata": {
        "id": "z_jj2t6zK6zy"
      },
      "source": [
        "We load the dataset from a csv file, and see its first rows"
      ]
    },
    {
      "cell_type": "code",
      "execution_count": 4,
      "metadata": {
        "id": "UQVo1CAJt7s8",
        "colab": {
          "base_uri": "https://localhost:8080/",
          "height": 261
        },
        "outputId": "217110cc-b7ba-4881-e22b-1569435f0092"
      },
      "outputs": [
        {
          "output_type": "execute_result",
          "data": {
            "text/plain": [
              "      id  gender   age  hypertension  heart_disease ever_married  \\\n",
              "0   9046    Male  67.0             0              1          Yes   \n",
              "1  51676  Female  61.0             0              0          Yes   \n",
              "2  31112    Male  80.0             0              1          Yes   \n",
              "3  60182  Female  49.0             0              0          Yes   \n",
              "4   1665  Female  79.0             1              0          Yes   \n",
              "\n",
              "       work_type Residence_type  avg_glucose_level   bmi   smoking_status  \\\n",
              "0        Private          Urban             228.69  36.6  formerly smoked   \n",
              "1  Self-employed          Rural             202.21   NaN     never smoked   \n",
              "2        Private          Rural             105.92  32.5     never smoked   \n",
              "3        Private          Urban             171.23  34.4           smokes   \n",
              "4  Self-employed          Rural             174.12  24.0     never smoked   \n",
              "\n",
              "   stroke  \n",
              "0       1  \n",
              "1       1  \n",
              "2       1  \n",
              "3       1  \n",
              "4       1  "
            ],
            "text/html": [
              "\n",
              "  <div id=\"df-185a7eba-b3bd-4e46-91e0-441f5b5b0d0a\" class=\"colab-df-container\">\n",
              "    <div>\n",
              "<style scoped>\n",
              "    .dataframe tbody tr th:only-of-type {\n",
              "        vertical-align: middle;\n",
              "    }\n",
              "\n",
              "    .dataframe tbody tr th {\n",
              "        vertical-align: top;\n",
              "    }\n",
              "\n",
              "    .dataframe thead th {\n",
              "        text-align: right;\n",
              "    }\n",
              "</style>\n",
              "<table border=\"1\" class=\"dataframe\">\n",
              "  <thead>\n",
              "    <tr style=\"text-align: right;\">\n",
              "      <th></th>\n",
              "      <th>id</th>\n",
              "      <th>gender</th>\n",
              "      <th>age</th>\n",
              "      <th>hypertension</th>\n",
              "      <th>heart_disease</th>\n",
              "      <th>ever_married</th>\n",
              "      <th>work_type</th>\n",
              "      <th>Residence_type</th>\n",
              "      <th>avg_glucose_level</th>\n",
              "      <th>bmi</th>\n",
              "      <th>smoking_status</th>\n",
              "      <th>stroke</th>\n",
              "    </tr>\n",
              "  </thead>\n",
              "  <tbody>\n",
              "    <tr>\n",
              "      <th>0</th>\n",
              "      <td>9046</td>\n",
              "      <td>Male</td>\n",
              "      <td>67.0</td>\n",
              "      <td>0</td>\n",
              "      <td>1</td>\n",
              "      <td>Yes</td>\n",
              "      <td>Private</td>\n",
              "      <td>Urban</td>\n",
              "      <td>228.69</td>\n",
              "      <td>36.6</td>\n",
              "      <td>formerly smoked</td>\n",
              "      <td>1</td>\n",
              "    </tr>\n",
              "    <tr>\n",
              "      <th>1</th>\n",
              "      <td>51676</td>\n",
              "      <td>Female</td>\n",
              "      <td>61.0</td>\n",
              "      <td>0</td>\n",
              "      <td>0</td>\n",
              "      <td>Yes</td>\n",
              "      <td>Self-employed</td>\n",
              "      <td>Rural</td>\n",
              "      <td>202.21</td>\n",
              "      <td>NaN</td>\n",
              "      <td>never smoked</td>\n",
              "      <td>1</td>\n",
              "    </tr>\n",
              "    <tr>\n",
              "      <th>2</th>\n",
              "      <td>31112</td>\n",
              "      <td>Male</td>\n",
              "      <td>80.0</td>\n",
              "      <td>0</td>\n",
              "      <td>1</td>\n",
              "      <td>Yes</td>\n",
              "      <td>Private</td>\n",
              "      <td>Rural</td>\n",
              "      <td>105.92</td>\n",
              "      <td>32.5</td>\n",
              "      <td>never smoked</td>\n",
              "      <td>1</td>\n",
              "    </tr>\n",
              "    <tr>\n",
              "      <th>3</th>\n",
              "      <td>60182</td>\n",
              "      <td>Female</td>\n",
              "      <td>49.0</td>\n",
              "      <td>0</td>\n",
              "      <td>0</td>\n",
              "      <td>Yes</td>\n",
              "      <td>Private</td>\n",
              "      <td>Urban</td>\n",
              "      <td>171.23</td>\n",
              "      <td>34.4</td>\n",
              "      <td>smokes</td>\n",
              "      <td>1</td>\n",
              "    </tr>\n",
              "    <tr>\n",
              "      <th>4</th>\n",
              "      <td>1665</td>\n",
              "      <td>Female</td>\n",
              "      <td>79.0</td>\n",
              "      <td>1</td>\n",
              "      <td>0</td>\n",
              "      <td>Yes</td>\n",
              "      <td>Self-employed</td>\n",
              "      <td>Rural</td>\n",
              "      <td>174.12</td>\n",
              "      <td>24.0</td>\n",
              "      <td>never smoked</td>\n",
              "      <td>1</td>\n",
              "    </tr>\n",
              "  </tbody>\n",
              "</table>\n",
              "</div>\n",
              "    <div class=\"colab-df-buttons\">\n",
              "\n",
              "  <div class=\"colab-df-container\">\n",
              "    <button class=\"colab-df-convert\" onclick=\"convertToInteractive('df-185a7eba-b3bd-4e46-91e0-441f5b5b0d0a')\"\n",
              "            title=\"Convert this dataframe to an interactive table.\"\n",
              "            style=\"display:none;\">\n",
              "\n",
              "  <svg xmlns=\"http://www.w3.org/2000/svg\" height=\"24px\" viewBox=\"0 -960 960 960\">\n",
              "    <path d=\"M120-120v-720h720v720H120Zm60-500h600v-160H180v160Zm220 220h160v-160H400v160Zm0 220h160v-160H400v160ZM180-400h160v-160H180v160Zm440 0h160v-160H620v160ZM180-180h160v-160H180v160Zm440 0h160v-160H620v160Z\"/>\n",
              "  </svg>\n",
              "    </button>\n",
              "\n",
              "  <style>\n",
              "    .colab-df-container {\n",
              "      display:flex;\n",
              "      gap: 12px;\n",
              "    }\n",
              "\n",
              "    .colab-df-convert {\n",
              "      background-color: #E8F0FE;\n",
              "      border: none;\n",
              "      border-radius: 50%;\n",
              "      cursor: pointer;\n",
              "      display: none;\n",
              "      fill: #1967D2;\n",
              "      height: 32px;\n",
              "      padding: 0 0 0 0;\n",
              "      width: 32px;\n",
              "    }\n",
              "\n",
              "    .colab-df-convert:hover {\n",
              "      background-color: #E2EBFA;\n",
              "      box-shadow: 0px 1px 2px rgba(60, 64, 67, 0.3), 0px 1px 3px 1px rgba(60, 64, 67, 0.15);\n",
              "      fill: #174EA6;\n",
              "    }\n",
              "\n",
              "    .colab-df-buttons div {\n",
              "      margin-bottom: 4px;\n",
              "    }\n",
              "\n",
              "    [theme=dark] .colab-df-convert {\n",
              "      background-color: #3B4455;\n",
              "      fill: #D2E3FC;\n",
              "    }\n",
              "\n",
              "    [theme=dark] .colab-df-convert:hover {\n",
              "      background-color: #434B5C;\n",
              "      box-shadow: 0px 1px 3px 1px rgba(0, 0, 0, 0.15);\n",
              "      filter: drop-shadow(0px 1px 2px rgba(0, 0, 0, 0.3));\n",
              "      fill: #FFFFFF;\n",
              "    }\n",
              "  </style>\n",
              "\n",
              "    <script>\n",
              "      const buttonEl =\n",
              "        document.querySelector('#df-185a7eba-b3bd-4e46-91e0-441f5b5b0d0a button.colab-df-convert');\n",
              "      buttonEl.style.display =\n",
              "        google.colab.kernel.accessAllowed ? 'block' : 'none';\n",
              "\n",
              "      async function convertToInteractive(key) {\n",
              "        const element = document.querySelector('#df-185a7eba-b3bd-4e46-91e0-441f5b5b0d0a');\n",
              "        const dataTable =\n",
              "          await google.colab.kernel.invokeFunction('convertToInteractive',\n",
              "                                                    [key], {});\n",
              "        if (!dataTable) return;\n",
              "\n",
              "        const docLinkHtml = 'Like what you see? Visit the ' +\n",
              "          '<a target=\"_blank\" href=https://colab.research.google.com/notebooks/data_table.ipynb>data table notebook</a>'\n",
              "          + ' to learn more about interactive tables.';\n",
              "        element.innerHTML = '';\n",
              "        dataTable['output_type'] = 'display_data';\n",
              "        await google.colab.output.renderOutput(dataTable, element);\n",
              "        const docLink = document.createElement('div');\n",
              "        docLink.innerHTML = docLinkHtml;\n",
              "        element.appendChild(docLink);\n",
              "      }\n",
              "    </script>\n",
              "  </div>\n",
              "\n",
              "\n",
              "<div id=\"df-23f8f9eb-d6a9-4f26-945a-9484bec1940f\">\n",
              "  <button class=\"colab-df-quickchart\" onclick=\"quickchart('df-23f8f9eb-d6a9-4f26-945a-9484bec1940f')\"\n",
              "            title=\"Suggest charts\"\n",
              "            style=\"display:none;\">\n",
              "\n",
              "<svg xmlns=\"http://www.w3.org/2000/svg\" height=\"24px\"viewBox=\"0 0 24 24\"\n",
              "     width=\"24px\">\n",
              "    <g>\n",
              "        <path d=\"M19 3H5c-1.1 0-2 .9-2 2v14c0 1.1.9 2 2 2h14c1.1 0 2-.9 2-2V5c0-1.1-.9-2-2-2zM9 17H7v-7h2v7zm4 0h-2V7h2v10zm4 0h-2v-4h2v4z\"/>\n",
              "    </g>\n",
              "</svg>\n",
              "  </button>\n",
              "\n",
              "<style>\n",
              "  .colab-df-quickchart {\n",
              "      --bg-color: #E8F0FE;\n",
              "      --fill-color: #1967D2;\n",
              "      --hover-bg-color: #E2EBFA;\n",
              "      --hover-fill-color: #174EA6;\n",
              "      --disabled-fill-color: #AAA;\n",
              "      --disabled-bg-color: #DDD;\n",
              "  }\n",
              "\n",
              "  [theme=dark] .colab-df-quickchart {\n",
              "      --bg-color: #3B4455;\n",
              "      --fill-color: #D2E3FC;\n",
              "      --hover-bg-color: #434B5C;\n",
              "      --hover-fill-color: #FFFFFF;\n",
              "      --disabled-bg-color: #3B4455;\n",
              "      --disabled-fill-color: #666;\n",
              "  }\n",
              "\n",
              "  .colab-df-quickchart {\n",
              "    background-color: var(--bg-color);\n",
              "    border: none;\n",
              "    border-radius: 50%;\n",
              "    cursor: pointer;\n",
              "    display: none;\n",
              "    fill: var(--fill-color);\n",
              "    height: 32px;\n",
              "    padding: 0;\n",
              "    width: 32px;\n",
              "  }\n",
              "\n",
              "  .colab-df-quickchart:hover {\n",
              "    background-color: var(--hover-bg-color);\n",
              "    box-shadow: 0 1px 2px rgba(60, 64, 67, 0.3), 0 1px 3px 1px rgba(60, 64, 67, 0.15);\n",
              "    fill: var(--button-hover-fill-color);\n",
              "  }\n",
              "\n",
              "  .colab-df-quickchart-complete:disabled,\n",
              "  .colab-df-quickchart-complete:disabled:hover {\n",
              "    background-color: var(--disabled-bg-color);\n",
              "    fill: var(--disabled-fill-color);\n",
              "    box-shadow: none;\n",
              "  }\n",
              "\n",
              "  .colab-df-spinner {\n",
              "    border: 2px solid var(--fill-color);\n",
              "    border-color: transparent;\n",
              "    border-bottom-color: var(--fill-color);\n",
              "    animation:\n",
              "      spin 1s steps(1) infinite;\n",
              "  }\n",
              "\n",
              "  @keyframes spin {\n",
              "    0% {\n",
              "      border-color: transparent;\n",
              "      border-bottom-color: var(--fill-color);\n",
              "      border-left-color: var(--fill-color);\n",
              "    }\n",
              "    20% {\n",
              "      border-color: transparent;\n",
              "      border-left-color: var(--fill-color);\n",
              "      border-top-color: var(--fill-color);\n",
              "    }\n",
              "    30% {\n",
              "      border-color: transparent;\n",
              "      border-left-color: var(--fill-color);\n",
              "      border-top-color: var(--fill-color);\n",
              "      border-right-color: var(--fill-color);\n",
              "    }\n",
              "    40% {\n",
              "      border-color: transparent;\n",
              "      border-right-color: var(--fill-color);\n",
              "      border-top-color: var(--fill-color);\n",
              "    }\n",
              "    60% {\n",
              "      border-color: transparent;\n",
              "      border-right-color: var(--fill-color);\n",
              "    }\n",
              "    80% {\n",
              "      border-color: transparent;\n",
              "      border-right-color: var(--fill-color);\n",
              "      border-bottom-color: var(--fill-color);\n",
              "    }\n",
              "    90% {\n",
              "      border-color: transparent;\n",
              "      border-bottom-color: var(--fill-color);\n",
              "    }\n",
              "  }\n",
              "</style>\n",
              "\n",
              "  <script>\n",
              "    async function quickchart(key) {\n",
              "      const quickchartButtonEl =\n",
              "        document.querySelector('#' + key + ' button');\n",
              "      quickchartButtonEl.disabled = true;  // To prevent multiple clicks.\n",
              "      quickchartButtonEl.classList.add('colab-df-spinner');\n",
              "      try {\n",
              "        const charts = await google.colab.kernel.invokeFunction(\n",
              "            'suggestCharts', [key], {});\n",
              "      } catch (error) {\n",
              "        console.error('Error during call to suggestCharts:', error);\n",
              "      }\n",
              "      quickchartButtonEl.classList.remove('colab-df-spinner');\n",
              "      quickchartButtonEl.classList.add('colab-df-quickchart-complete');\n",
              "    }\n",
              "    (() => {\n",
              "      let quickchartButtonEl =\n",
              "        document.querySelector('#df-23f8f9eb-d6a9-4f26-945a-9484bec1940f button');\n",
              "      quickchartButtonEl.style.display =\n",
              "        google.colab.kernel.accessAllowed ? 'block' : 'none';\n",
              "    })();\n",
              "  </script>\n",
              "</div>\n",
              "    </div>\n",
              "  </div>\n"
            ]
          },
          "metadata": {},
          "execution_count": 4
        }
      ],
      "source": [
        "path = 'healthcare-dataset-stroke-data.csv'\n",
        "data = pd.read_csv(path)\n",
        "data.head()"
      ]
    },
    {
      "cell_type": "markdown",
      "metadata": {
        "id": "r6gAyBGtubI7"
      },
      "source": [
        "# Exploratory Data Analysis"
      ]
    },
    {
      "cell_type": "markdown",
      "metadata": {
        "id": "XZ_93CvuLF3j"
      },
      "source": [
        "Now we start the exploratory data analysis."
      ]
    },
    {
      "cell_type": "markdown",
      "metadata": {
        "id": "2925yVCdud0a"
      },
      "source": [
        "### Shape of the data"
      ]
    },
    {
      "cell_type": "markdown",
      "metadata": {
        "id": "yZ0hWvVALJy4"
      },
      "source": [
        "First thing we need to know the shape of our data\n",
        "\n",
        "**Question 1:** How many examples and features do we have?"
      ]
    },
    {
      "cell_type": "code",
      "execution_count": 5,
      "metadata": {
        "id": "8pvWR3PKuQEy",
        "colab": {
          "base_uri": "https://localhost:8080/"
        },
        "outputId": "f8b34cf5-9126-4f3f-e48e-e7fffd57763a"
      },
      "outputs": [
        {
          "output_type": "stream",
          "name": "stdout",
          "text": [
            "5110 12\n"
          ]
        }
      ],
      "source": [
        "nrow = data.shape[0]\n",
        "ncol = data.shape[1]\n",
        "\n",
        "print(nrow, ncol)"
      ]
    },
    {
      "cell_type": "markdown",
      "metadata": {
        "id": "yUy4oI5xukRr"
      },
      "source": [
        "### Types of different Columns"
      ]
    },
    {
      "cell_type": "markdown",
      "metadata": {
        "id": "G1q10ievLTTs"
      },
      "source": [
        "**Question 2:** Check the type of each feature."
      ]
    },
    {
      "cell_type": "code",
      "execution_count": 6,
      "metadata": {
        "id": "_8snoohouhUP",
        "colab": {
          "base_uri": "https://localhost:8080/"
        },
        "outputId": "9a7b8cc2-b564-4c6a-ad0c-7f5865560800"
      },
      "outputs": [
        {
          "output_type": "stream",
          "name": "stdout",
          "text": [
            "<class 'pandas.core.frame.DataFrame'>\n",
            "RangeIndex: 5110 entries, 0 to 5109\n",
            "Data columns (total 12 columns):\n",
            " #   Column             Non-Null Count  Dtype  \n",
            "---  ------             --------------  -----  \n",
            " 0   id                 5110 non-null   int64  \n",
            " 1   gender             5110 non-null   object \n",
            " 2   age                5110 non-null   float64\n",
            " 3   hypertension       5110 non-null   int64  \n",
            " 4   heart_disease      5110 non-null   int64  \n",
            " 5   ever_married       5110 non-null   object \n",
            " 6   work_type          5110 non-null   object \n",
            " 7   Residence_type     5110 non-null   object \n",
            " 8   avg_glucose_level  5110 non-null   float64\n",
            " 9   bmi                4909 non-null   float64\n",
            " 10  smoking_status     5110 non-null   object \n",
            " 11  stroke             5110 non-null   int64  \n",
            "dtypes: float64(3), int64(4), object(5)\n",
            "memory usage: 479.2+ KB\n"
          ]
        }
      ],
      "source": [
        "data.info()\n",
        "\n"
      ]
    },
    {
      "cell_type": "markdown",
      "metadata": {
        "id": "nkrEh6RYygms"
      },
      "source": [
        "### Dealing with categorical variables"
      ]
    },
    {
      "cell_type": "markdown",
      "source": [
        "**Question 3:** Use the .value_counts() functions to walk through the categorical variables that we have to see the categories and the counts of each of them."
      ],
      "metadata": {
        "id": "v_kBYl7ItLGt"
      }
    },
    {
      "cell_type": "code",
      "execution_count": 7,
      "metadata": {
        "id": "DlSfSQ35ykgc",
        "colab": {
          "base_uri": "https://localhost:8080/"
        },
        "outputId": "9ef17d6a-ca83-4d49-d3ed-1c6c05ac6e06"
      },
      "outputs": [
        {
          "output_type": "execute_result",
          "data": {
            "text/plain": [
              "never smoked       1892\n",
              "Unknown            1544\n",
              "formerly smoked     885\n",
              "smokes              789\n",
              "Name: smoking_status, dtype: int64"
            ]
          },
          "metadata": {},
          "execution_count": 7
        }
      ],
      "source": [
        "smoking_types = data['smoking_status'].value_counts()\n",
        "smoking_types"
      ]
    },
    {
      "cell_type": "code",
      "execution_count": 8,
      "metadata": {
        "id": "Yg0xlLNUy7AF",
        "colab": {
          "base_uri": "https://localhost:8080/"
        },
        "outputId": "f6641800-2677-4d90-c68a-e6bbf633c208"
      },
      "outputs": [
        {
          "output_type": "execute_result",
          "data": {
            "text/plain": [
              "Urban    2596\n",
              "Rural    2514\n",
              "Name: Residence_type, dtype: int64"
            ]
          },
          "metadata": {},
          "execution_count": 8
        }
      ],
      "source": [
        "residence_types = data['Residence_type'].value_counts()\n",
        "residence_types"
      ]
    },
    {
      "cell_type": "code",
      "execution_count": 9,
      "metadata": {
        "id": "T72r_mkrzF9V",
        "colab": {
          "base_uri": "https://localhost:8080/"
        },
        "outputId": "60ce48fb-2f2c-4367-d79a-2e4dabe8c69c"
      },
      "outputs": [
        {
          "output_type": "execute_result",
          "data": {
            "text/plain": [
              "Private          2925\n",
              "Self-employed     819\n",
              "children          687\n",
              "Govt_job          657\n",
              "Never_worked       22\n",
              "Name: work_type, dtype: int64"
            ]
          },
          "metadata": {},
          "execution_count": 9
        }
      ],
      "source": [
        "work_types = data['work_type'].value_counts()\n",
        "work_types"
      ]
    },
    {
      "cell_type": "code",
      "execution_count": 10,
      "metadata": {
        "id": "Z0kpR57LzQE9",
        "colab": {
          "base_uri": "https://localhost:8080/"
        },
        "outputId": "444391ff-2c86-452e-f076-352489f8dd24"
      },
      "outputs": [
        {
          "output_type": "execute_result",
          "data": {
            "text/plain": [
              "Yes    3353\n",
              "No     1757\n",
              "Name: ever_married, dtype: int64"
            ]
          },
          "metadata": {},
          "execution_count": 10
        }
      ],
      "source": [
        "married_types = data['ever_married'].value_counts()\n",
        "married_types"
      ]
    },
    {
      "cell_type": "code",
      "execution_count": 11,
      "metadata": {
        "id": "fQIoAs8y3igG",
        "colab": {
          "base_uri": "https://localhost:8080/"
        },
        "outputId": "da5b3e66-fbc4-45e9-d574-e89b2f6faa97"
      },
      "outputs": [
        {
          "output_type": "execute_result",
          "data": {
            "text/plain": [
              "0    4612\n",
              "1     498\n",
              "Name: hypertension, dtype: int64"
            ]
          },
          "metadata": {},
          "execution_count": 11
        }
      ],
      "source": [
        "hypertension = data['hypertension'].value_counts()\n",
        "hypertension"
      ]
    },
    {
      "cell_type": "code",
      "execution_count": 12,
      "metadata": {
        "id": "xEhNH46j3p3Y",
        "colab": {
          "base_uri": "https://localhost:8080/"
        },
        "outputId": "b73d7271-d500-485f-f7cb-4ad6ce949f76"
      },
      "outputs": [
        {
          "output_type": "execute_result",
          "data": {
            "text/plain": [
              "0    4834\n",
              "1     276\n",
              "Name: heart_disease, dtype: int64"
            ]
          },
          "metadata": {},
          "execution_count": 12
        }
      ],
      "source": [
        "heart_disease = data['heart_disease'].value_counts()\n",
        "heart_disease"
      ]
    },
    {
      "cell_type": "code",
      "execution_count": 13,
      "metadata": {
        "id": "8cI7uJvA3Njv",
        "colab": {
          "base_uri": "https://localhost:8080/"
        },
        "outputId": "ebddeb59-b2ef-4c69-bfc3-ee413e9aecbb"
      },
      "outputs": [
        {
          "output_type": "execute_result",
          "data": {
            "text/plain": [
              "0    4861\n",
              "1     249\n",
              "Name: stroke, dtype: int64"
            ]
          },
          "metadata": {},
          "execution_count": 13
        }
      ],
      "source": [
        "stroke= data['stroke'].value_counts()\n",
        "stroke"
      ]
    },
    {
      "cell_type": "markdown",
      "metadata": {
        "id": "_jFIiKPvllld"
      },
      "source": [
        "# Preprocessing"
      ]
    },
    {
      "cell_type": "markdown",
      "metadata": {
        "id": "JsQQj-wVlkjS"
      },
      "source": [
        "### Dealing with Nulls"
      ]
    },
    {
      "cell_type": "markdown",
      "metadata": {
        "id": "wdlRc672lgI4"
      },
      "source": [
        "**Question 4:** The bmi column contains nulls. Fill it with the appropriate measure."
      ]
    },
    {
      "cell_type": "code",
      "execution_count": 15,
      "metadata": {
        "id": "7UDrnGK6lYiE",
        "colab": {
          "base_uri": "https://localhost:8080/"
        },
        "outputId": "ebad172b-36fd-4a18-f89e-35a44bacd7da"
      },
      "outputs": [
        {
          "output_type": "execute_result",
          "data": {
            "text/plain": [
              "id                   0\n",
              "gender               0\n",
              "age                  0\n",
              "hypertension         0\n",
              "heart_disease        0\n",
              "ever_married         0\n",
              "work_type            0\n",
              "Residence_type       0\n",
              "avg_glucose_level    0\n",
              "bmi                  0\n",
              "smoking_status       0\n",
              "stroke               0\n",
              "dtype: int64"
            ]
          },
          "metadata": {},
          "execution_count": 15
        }
      ],
      "source": [
        "data['bmi'].fillna(data['bmi'].mean(), inplace=True)\n",
        "data.isnull().sum()"
      ]
    },
    {
      "cell_type": "markdown",
      "metadata": {
        "id": "21da4C_Bzd-u"
      },
      "source": [
        "#### Encoding Categorical Features"
      ]
    },
    {
      "cell_type": "markdown",
      "metadata": {
        "id": "UaNk4gWCLqe4"
      },
      "source": [
        "**Question 5:** Here you have to encode those categorical variables to be able to use them to train your DL model."
      ]
    },
    {
      "cell_type": "code",
      "execution_count": 16,
      "metadata": {
        "id": "6nJtOvxdzi_G"
      },
      "outputs": [],
      "source": [
        "from sklearn import preprocessing\n",
        "\n",
        "encoder = preprocessing.LabelEncoder()\n",
        "data['smoking_status'] = encoder.fit_transform(data['smoking_status'])\n",
        "data['Residence_type'] = encoder.fit_transform(data['Residence_type'])\n",
        "data['work_type'] = encoder.fit_transform(data['work_type'])\n",
        "data['ever_married'] = encoder.fit_transform(data['ever_married'])\n",
        "data['gender'] = encoder.fit_transform(data['gender'])"
      ]
    },
    {
      "cell_type": "markdown",
      "metadata": {
        "id": "d1GOfAgt4M-Q"
      },
      "source": [
        "### Normalizing Features"
      ]
    },
    {
      "cell_type": "markdown",
      "metadata": {
        "id": "EPpkMCXELwty"
      },
      "source": [
        "**Question 6:** Normalize the input data"
      ]
    },
    {
      "cell_type": "code",
      "execution_count": 18,
      "metadata": {
        "id": "BtI_XA-m33Bx",
        "colab": {
          "base_uri": "https://localhost:8080/",
          "height": 320
        },
        "outputId": "831fc24e-cbac-4c5c-af02-ba79987a3f7c"
      },
      "outputs": [
        {
          "output_type": "execute_result",
          "data": {
            "text/plain": [
              "                id       gender          age  hypertension  heart_disease  \\\n",
              "count  5110.000000  5110.000000  5110.000000   5110.000000    5110.000000   \n",
              "mean      0.500197     0.207143     0.526692      0.097456       0.054012   \n",
              "std       0.290392     0.246522     0.276033      0.296607       0.226063   \n",
              "min       0.000000     0.000000     0.000000      0.000000       0.000000   \n",
              "25%       0.242535     0.000000     0.304199      0.000000       0.000000   \n",
              "50%       0.505880     0.000000     0.548340      0.000000       0.000000   \n",
              "75%       0.749455     0.500000     0.743652      0.000000       0.000000   \n",
              "max       1.000000     1.000000     1.000000      1.000000       1.000000   \n",
              "\n",
              "       ever_married    work_type  Residence_type  avg_glucose_level  \\\n",
              "count   5110.000000  5110.000000     5110.000000        5110.000000   \n",
              "mean       0.656164     0.541928        0.508023           0.235563   \n",
              "std        0.475034     0.272573        0.499985           0.209046   \n",
              "min        0.000000     0.000000        0.000000           0.000000   \n",
              "25%        0.000000     0.500000        0.000000           0.102137   \n",
              "50%        1.000000     0.500000        1.000000           0.169721   \n",
              "75%        1.000000     0.750000        1.000000           0.272228   \n",
              "max        1.000000     1.000000        1.000000           1.000000   \n",
              "\n",
              "               bmi  smoking_status       stroke  \n",
              "count  5110.000000     5110.000000  5110.000000  \n",
              "mean      0.212981        0.458969     0.048728  \n",
              "std       0.088179        0.357178     0.215320  \n",
              "min       0.000000        0.000000     0.000000  \n",
              "25%       0.154639        0.000000     0.000000  \n",
              "50%       0.207331        0.666667     0.000000  \n",
              "75%       0.257732        0.666667     0.000000  \n",
              "max       1.000000        1.000000     1.000000  "
            ],
            "text/html": [
              "\n",
              "  <div id=\"df-97841cf2-8d1d-471f-8fe1-cc6fb30bd162\" class=\"colab-df-container\">\n",
              "    <div>\n",
              "<style scoped>\n",
              "    .dataframe tbody tr th:only-of-type {\n",
              "        vertical-align: middle;\n",
              "    }\n",
              "\n",
              "    .dataframe tbody tr th {\n",
              "        vertical-align: top;\n",
              "    }\n",
              "\n",
              "    .dataframe thead th {\n",
              "        text-align: right;\n",
              "    }\n",
              "</style>\n",
              "<table border=\"1\" class=\"dataframe\">\n",
              "  <thead>\n",
              "    <tr style=\"text-align: right;\">\n",
              "      <th></th>\n",
              "      <th>id</th>\n",
              "      <th>gender</th>\n",
              "      <th>age</th>\n",
              "      <th>hypertension</th>\n",
              "      <th>heart_disease</th>\n",
              "      <th>ever_married</th>\n",
              "      <th>work_type</th>\n",
              "      <th>Residence_type</th>\n",
              "      <th>avg_glucose_level</th>\n",
              "      <th>bmi</th>\n",
              "      <th>smoking_status</th>\n",
              "      <th>stroke</th>\n",
              "    </tr>\n",
              "  </thead>\n",
              "  <tbody>\n",
              "    <tr>\n",
              "      <th>count</th>\n",
              "      <td>5110.000000</td>\n",
              "      <td>5110.000000</td>\n",
              "      <td>5110.000000</td>\n",
              "      <td>5110.000000</td>\n",
              "      <td>5110.000000</td>\n",
              "      <td>5110.000000</td>\n",
              "      <td>5110.000000</td>\n",
              "      <td>5110.000000</td>\n",
              "      <td>5110.000000</td>\n",
              "      <td>5110.000000</td>\n",
              "      <td>5110.000000</td>\n",
              "      <td>5110.000000</td>\n",
              "    </tr>\n",
              "    <tr>\n",
              "      <th>mean</th>\n",
              "      <td>0.500197</td>\n",
              "      <td>0.207143</td>\n",
              "      <td>0.526692</td>\n",
              "      <td>0.097456</td>\n",
              "      <td>0.054012</td>\n",
              "      <td>0.656164</td>\n",
              "      <td>0.541928</td>\n",
              "      <td>0.508023</td>\n",
              "      <td>0.235563</td>\n",
              "      <td>0.212981</td>\n",
              "      <td>0.458969</td>\n",
              "      <td>0.048728</td>\n",
              "    </tr>\n",
              "    <tr>\n",
              "      <th>std</th>\n",
              "      <td>0.290392</td>\n",
              "      <td>0.246522</td>\n",
              "      <td>0.276033</td>\n",
              "      <td>0.296607</td>\n",
              "      <td>0.226063</td>\n",
              "      <td>0.475034</td>\n",
              "      <td>0.272573</td>\n",
              "      <td>0.499985</td>\n",
              "      <td>0.209046</td>\n",
              "      <td>0.088179</td>\n",
              "      <td>0.357178</td>\n",
              "      <td>0.215320</td>\n",
              "    </tr>\n",
              "    <tr>\n",
              "      <th>min</th>\n",
              "      <td>0.000000</td>\n",
              "      <td>0.000000</td>\n",
              "      <td>0.000000</td>\n",
              "      <td>0.000000</td>\n",
              "      <td>0.000000</td>\n",
              "      <td>0.000000</td>\n",
              "      <td>0.000000</td>\n",
              "      <td>0.000000</td>\n",
              "      <td>0.000000</td>\n",
              "      <td>0.000000</td>\n",
              "      <td>0.000000</td>\n",
              "      <td>0.000000</td>\n",
              "    </tr>\n",
              "    <tr>\n",
              "      <th>25%</th>\n",
              "      <td>0.242535</td>\n",
              "      <td>0.000000</td>\n",
              "      <td>0.304199</td>\n",
              "      <td>0.000000</td>\n",
              "      <td>0.000000</td>\n",
              "      <td>0.000000</td>\n",
              "      <td>0.500000</td>\n",
              "      <td>0.000000</td>\n",
              "      <td>0.102137</td>\n",
              "      <td>0.154639</td>\n",
              "      <td>0.000000</td>\n",
              "      <td>0.000000</td>\n",
              "    </tr>\n",
              "    <tr>\n",
              "      <th>50%</th>\n",
              "      <td>0.505880</td>\n",
              "      <td>0.000000</td>\n",
              "      <td>0.548340</td>\n",
              "      <td>0.000000</td>\n",
              "      <td>0.000000</td>\n",
              "      <td>1.000000</td>\n",
              "      <td>0.500000</td>\n",
              "      <td>1.000000</td>\n",
              "      <td>0.169721</td>\n",
              "      <td>0.207331</td>\n",
              "      <td>0.666667</td>\n",
              "      <td>0.000000</td>\n",
              "    </tr>\n",
              "    <tr>\n",
              "      <th>75%</th>\n",
              "      <td>0.749455</td>\n",
              "      <td>0.500000</td>\n",
              "      <td>0.743652</td>\n",
              "      <td>0.000000</td>\n",
              "      <td>0.000000</td>\n",
              "      <td>1.000000</td>\n",
              "      <td>0.750000</td>\n",
              "      <td>1.000000</td>\n",
              "      <td>0.272228</td>\n",
              "      <td>0.257732</td>\n",
              "      <td>0.666667</td>\n",
              "      <td>0.000000</td>\n",
              "    </tr>\n",
              "    <tr>\n",
              "      <th>max</th>\n",
              "      <td>1.000000</td>\n",
              "      <td>1.000000</td>\n",
              "      <td>1.000000</td>\n",
              "      <td>1.000000</td>\n",
              "      <td>1.000000</td>\n",
              "      <td>1.000000</td>\n",
              "      <td>1.000000</td>\n",
              "      <td>1.000000</td>\n",
              "      <td>1.000000</td>\n",
              "      <td>1.000000</td>\n",
              "      <td>1.000000</td>\n",
              "      <td>1.000000</td>\n",
              "    </tr>\n",
              "  </tbody>\n",
              "</table>\n",
              "</div>\n",
              "    <div class=\"colab-df-buttons\">\n",
              "\n",
              "  <div class=\"colab-df-container\">\n",
              "    <button class=\"colab-df-convert\" onclick=\"convertToInteractive('df-97841cf2-8d1d-471f-8fe1-cc6fb30bd162')\"\n",
              "            title=\"Convert this dataframe to an interactive table.\"\n",
              "            style=\"display:none;\">\n",
              "\n",
              "  <svg xmlns=\"http://www.w3.org/2000/svg\" height=\"24px\" viewBox=\"0 -960 960 960\">\n",
              "    <path d=\"M120-120v-720h720v720H120Zm60-500h600v-160H180v160Zm220 220h160v-160H400v160Zm0 220h160v-160H400v160ZM180-400h160v-160H180v160Zm440 0h160v-160H620v160ZM180-180h160v-160H180v160Zm440 0h160v-160H620v160Z\"/>\n",
              "  </svg>\n",
              "    </button>\n",
              "\n",
              "  <style>\n",
              "    .colab-df-container {\n",
              "      display:flex;\n",
              "      gap: 12px;\n",
              "    }\n",
              "\n",
              "    .colab-df-convert {\n",
              "      background-color: #E8F0FE;\n",
              "      border: none;\n",
              "      border-radius: 50%;\n",
              "      cursor: pointer;\n",
              "      display: none;\n",
              "      fill: #1967D2;\n",
              "      height: 32px;\n",
              "      padding: 0 0 0 0;\n",
              "      width: 32px;\n",
              "    }\n",
              "\n",
              "    .colab-df-convert:hover {\n",
              "      background-color: #E2EBFA;\n",
              "      box-shadow: 0px 1px 2px rgba(60, 64, 67, 0.3), 0px 1px 3px 1px rgba(60, 64, 67, 0.15);\n",
              "      fill: #174EA6;\n",
              "    }\n",
              "\n",
              "    .colab-df-buttons div {\n",
              "      margin-bottom: 4px;\n",
              "    }\n",
              "\n",
              "    [theme=dark] .colab-df-convert {\n",
              "      background-color: #3B4455;\n",
              "      fill: #D2E3FC;\n",
              "    }\n",
              "\n",
              "    [theme=dark] .colab-df-convert:hover {\n",
              "      background-color: #434B5C;\n",
              "      box-shadow: 0px 1px 3px 1px rgba(0, 0, 0, 0.15);\n",
              "      filter: drop-shadow(0px 1px 2px rgba(0, 0, 0, 0.3));\n",
              "      fill: #FFFFFF;\n",
              "    }\n",
              "  </style>\n",
              "\n",
              "    <script>\n",
              "      const buttonEl =\n",
              "        document.querySelector('#df-97841cf2-8d1d-471f-8fe1-cc6fb30bd162 button.colab-df-convert');\n",
              "      buttonEl.style.display =\n",
              "        google.colab.kernel.accessAllowed ? 'block' : 'none';\n",
              "\n",
              "      async function convertToInteractive(key) {\n",
              "        const element = document.querySelector('#df-97841cf2-8d1d-471f-8fe1-cc6fb30bd162');\n",
              "        const dataTable =\n",
              "          await google.colab.kernel.invokeFunction('convertToInteractive',\n",
              "                                                    [key], {});\n",
              "        if (!dataTable) return;\n",
              "\n",
              "        const docLinkHtml = 'Like what you see? Visit the ' +\n",
              "          '<a target=\"_blank\" href=https://colab.research.google.com/notebooks/data_table.ipynb>data table notebook</a>'\n",
              "          + ' to learn more about interactive tables.';\n",
              "        element.innerHTML = '';\n",
              "        dataTable['output_type'] = 'display_data';\n",
              "        await google.colab.output.renderOutput(dataTable, element);\n",
              "        const docLink = document.createElement('div');\n",
              "        docLink.innerHTML = docLinkHtml;\n",
              "        element.appendChild(docLink);\n",
              "      }\n",
              "    </script>\n",
              "  </div>\n",
              "\n",
              "\n",
              "<div id=\"df-b92666ad-5adf-4a8d-913d-9daca35b3570\">\n",
              "  <button class=\"colab-df-quickchart\" onclick=\"quickchart('df-b92666ad-5adf-4a8d-913d-9daca35b3570')\"\n",
              "            title=\"Suggest charts\"\n",
              "            style=\"display:none;\">\n",
              "\n",
              "<svg xmlns=\"http://www.w3.org/2000/svg\" height=\"24px\"viewBox=\"0 0 24 24\"\n",
              "     width=\"24px\">\n",
              "    <g>\n",
              "        <path d=\"M19 3H5c-1.1 0-2 .9-2 2v14c0 1.1.9 2 2 2h14c1.1 0 2-.9 2-2V5c0-1.1-.9-2-2-2zM9 17H7v-7h2v7zm4 0h-2V7h2v10zm4 0h-2v-4h2v4z\"/>\n",
              "    </g>\n",
              "</svg>\n",
              "  </button>\n",
              "\n",
              "<style>\n",
              "  .colab-df-quickchart {\n",
              "      --bg-color: #E8F0FE;\n",
              "      --fill-color: #1967D2;\n",
              "      --hover-bg-color: #E2EBFA;\n",
              "      --hover-fill-color: #174EA6;\n",
              "      --disabled-fill-color: #AAA;\n",
              "      --disabled-bg-color: #DDD;\n",
              "  }\n",
              "\n",
              "  [theme=dark] .colab-df-quickchart {\n",
              "      --bg-color: #3B4455;\n",
              "      --fill-color: #D2E3FC;\n",
              "      --hover-bg-color: #434B5C;\n",
              "      --hover-fill-color: #FFFFFF;\n",
              "      --disabled-bg-color: #3B4455;\n",
              "      --disabled-fill-color: #666;\n",
              "  }\n",
              "\n",
              "  .colab-df-quickchart {\n",
              "    background-color: var(--bg-color);\n",
              "    border: none;\n",
              "    border-radius: 50%;\n",
              "    cursor: pointer;\n",
              "    display: none;\n",
              "    fill: var(--fill-color);\n",
              "    height: 32px;\n",
              "    padding: 0;\n",
              "    width: 32px;\n",
              "  }\n",
              "\n",
              "  .colab-df-quickchart:hover {\n",
              "    background-color: var(--hover-bg-color);\n",
              "    box-shadow: 0 1px 2px rgba(60, 64, 67, 0.3), 0 1px 3px 1px rgba(60, 64, 67, 0.15);\n",
              "    fill: var(--button-hover-fill-color);\n",
              "  }\n",
              "\n",
              "  .colab-df-quickchart-complete:disabled,\n",
              "  .colab-df-quickchart-complete:disabled:hover {\n",
              "    background-color: var(--disabled-bg-color);\n",
              "    fill: var(--disabled-fill-color);\n",
              "    box-shadow: none;\n",
              "  }\n",
              "\n",
              "  .colab-df-spinner {\n",
              "    border: 2px solid var(--fill-color);\n",
              "    border-color: transparent;\n",
              "    border-bottom-color: var(--fill-color);\n",
              "    animation:\n",
              "      spin 1s steps(1) infinite;\n",
              "  }\n",
              "\n",
              "  @keyframes spin {\n",
              "    0% {\n",
              "      border-color: transparent;\n",
              "      border-bottom-color: var(--fill-color);\n",
              "      border-left-color: var(--fill-color);\n",
              "    }\n",
              "    20% {\n",
              "      border-color: transparent;\n",
              "      border-left-color: var(--fill-color);\n",
              "      border-top-color: var(--fill-color);\n",
              "    }\n",
              "    30% {\n",
              "      border-color: transparent;\n",
              "      border-left-color: var(--fill-color);\n",
              "      border-top-color: var(--fill-color);\n",
              "      border-right-color: var(--fill-color);\n",
              "    }\n",
              "    40% {\n",
              "      border-color: transparent;\n",
              "      border-right-color: var(--fill-color);\n",
              "      border-top-color: var(--fill-color);\n",
              "    }\n",
              "    60% {\n",
              "      border-color: transparent;\n",
              "      border-right-color: var(--fill-color);\n",
              "    }\n",
              "    80% {\n",
              "      border-color: transparent;\n",
              "      border-right-color: var(--fill-color);\n",
              "      border-bottom-color: var(--fill-color);\n",
              "    }\n",
              "    90% {\n",
              "      border-color: transparent;\n",
              "      border-bottom-color: var(--fill-color);\n",
              "    }\n",
              "  }\n",
              "</style>\n",
              "\n",
              "  <script>\n",
              "    async function quickchart(key) {\n",
              "      const quickchartButtonEl =\n",
              "        document.querySelector('#' + key + ' button');\n",
              "      quickchartButtonEl.disabled = true;  // To prevent multiple clicks.\n",
              "      quickchartButtonEl.classList.add('colab-df-spinner');\n",
              "      try {\n",
              "        const charts = await google.colab.kernel.invokeFunction(\n",
              "            'suggestCharts', [key], {});\n",
              "      } catch (error) {\n",
              "        console.error('Error during call to suggestCharts:', error);\n",
              "      }\n",
              "      quickchartButtonEl.classList.remove('colab-df-spinner');\n",
              "      quickchartButtonEl.classList.add('colab-df-quickchart-complete');\n",
              "    }\n",
              "    (() => {\n",
              "      let quickchartButtonEl =\n",
              "        document.querySelector('#df-b92666ad-5adf-4a8d-913d-9daca35b3570 button');\n",
              "      quickchartButtonEl.style.display =\n",
              "        google.colab.kernel.accessAllowed ? 'block' : 'none';\n",
              "    })();\n",
              "  </script>\n",
              "</div>\n",
              "    </div>\n",
              "  </div>\n"
            ]
          },
          "metadata": {},
          "execution_count": 18
        }
      ],
      "source": [
        "from sklearn.preprocessing import MinMaxScaler\n",
        "scaler = MinMaxScaler()\n",
        "data = pd.DataFrame(scaler.fit_transform(data), columns=data.columns)\n",
        "data.describe()\n",
        "\n",
        "# another way for normalize:\n",
        "\n",
        "# data = data.divide(data.max(axis=0))\n",
        "\n",
        "# data.describe()"
      ]
    },
    {
      "cell_type": "markdown",
      "metadata": {
        "id": "KICuY0lg5nUD"
      },
      "source": [
        "### Removing Unnecessary Features"
      ]
    },
    {
      "cell_type": "markdown",
      "metadata": {
        "id": "ua71U2YxL5Ls"
      },
      "source": [
        "**Question 7:** From the features that you have, remove the feature(s) that is(are) irrelevant to your predictions."
      ]
    },
    {
      "cell_type": "code",
      "execution_count": 19,
      "metadata": {
        "id": "8AHNqYbh5sE7"
      },
      "outputs": [],
      "source": [
        "data = data.drop(['id' ,'ever_married','work_type','Residence_type'], axis=1)"
      ]
    },
    {
      "cell_type": "markdown",
      "metadata": {
        "id": "5k-KoLpH5C9R"
      },
      "source": [
        "# Building the DL Model"
      ]
    },
    {
      "cell_type": "markdown",
      "metadata": {
        "id": "uI2VtlafMBeN"
      },
      "source": [
        "**Question 8:** Now it's time to build the actual model, and observe a summary of it."
      ]
    },
    {
      "cell_type": "code",
      "execution_count": 21,
      "metadata": {
        "id": "AZvKqqT65E0W",
        "colab": {
          "base_uri": "https://localhost:8080/"
        },
        "outputId": "92e7b199-fd95-4710-a125-9d6afde64b2e"
      },
      "outputs": [
        {
          "output_type": "stream",
          "name": "stdout",
          "text": [
            "Model: \"sequential_1\"\n",
            "_________________________________________________________________\n",
            " Layer (type)                Output Shape              Param #   \n",
            "=================================================================\n",
            " dense_2 (Dense)             (None, 10)                80        \n",
            "                                                                 \n",
            " dense_3 (Dense)             (None, 1)                 11        \n",
            "                                                                 \n",
            "=================================================================\n",
            "Total params: 91 (364.00 Byte)\n",
            "Trainable params: 91 (364.00 Byte)\n",
            "Non-trainable params: 0 (0.00 Byte)\n",
            "_________________________________________________________________\n"
          ]
        }
      ],
      "source": [
        "import tensorflow as tf\n",
        "from tensorflow.keras.models import Sequential\n",
        "from tensorflow.keras.layers import Dense\n",
        "\n",
        "\n",
        "model = Sequential()\n",
        "model.add(Dense(10, input_dim=7, activation='relu'))\n",
        "model.add(Dense(1, activation='sigmoid'))\n",
        "\n",
        "\n",
        "model.summary()"
      ]
    },
    {
      "cell_type": "markdown",
      "metadata": {
        "id": "AD57fE2n7QP4"
      },
      "source": [
        "### Compiling the model"
      ]
    },
    {
      "cell_type": "markdown",
      "metadata": {
        "id": "seGmh1x1-qH9"
      },
      "source": [
        "**Question 9:**  Now we compile the model. Here we want to measure the accuracy as well as the precision and recall to know better about the performance of our model."
      ]
    },
    {
      "cell_type": "code",
      "execution_count": 22,
      "metadata": {
        "id": "woSsSTEm61_U"
      },
      "outputs": [],
      "source": [
        "model.compile(optimizer='adam',loss='binary_crossentropy', metrics=['accuracy', tf.keras.metrics.Precision(), tf.keras.metrics.Recall()])"
      ]
    },
    {
      "cell_type": "markdown",
      "metadata": {
        "id": "U5zevRH57X8v"
      },
      "source": [
        "### Fitting the model"
      ]
    },
    {
      "cell_type": "markdown",
      "metadata": {
        "id": "UhaEU26KMUWK"
      },
      "source": [
        "**Question 10:** Split the data and train the model\n",
        "\n",
        "We take the first columns as features and the last column as a label, then we split our dataset between training (70%) and testing (30%)."
      ]
    },
    {
      "cell_type": "code",
      "execution_count": 23,
      "metadata": {
        "id": "rsVOVfn47MLn"
      },
      "outputs": [],
      "source": [
        "from sklearn.model_selection import train_test_split\n",
        "x = data.iloc[:,:-1]\n",
        "y = data.iloc[:,-1]\n",
        "\n",
        "x_train, x_val, y_train, y_val = train_test_split(x, y, test_size=0.3, stratify=y)"
      ]
    },
    {
      "cell_type": "code",
      "source": [
        "y"
      ],
      "metadata": {
        "colab": {
          "base_uri": "https://localhost:8080/"
        },
        "id": "bo0zJwIpaoIi",
        "outputId": "feb4b70c-297b-4c77-88f5-de60217c5e73"
      },
      "execution_count": 24,
      "outputs": [
        {
          "output_type": "execute_result",
          "data": {
            "text/plain": [
              "0       1.0\n",
              "1       1.0\n",
              "2       1.0\n",
              "3       1.0\n",
              "4       1.0\n",
              "       ... \n",
              "5105    0.0\n",
              "5106    0.0\n",
              "5107    0.0\n",
              "5108    0.0\n",
              "5109    0.0\n",
              "Name: stroke, Length: 5110, dtype: float64"
            ]
          },
          "metadata": {},
          "execution_count": 24
        }
      ]
    },
    {
      "cell_type": "markdown",
      "metadata": {
        "id": "LVvxbyPyezb3"
      },
      "source": [
        "we fit the model on 80% training data, and validate on the rest. Later we will do the final test on the test data. The training happens for 15 epochs."
      ]
    },
    {
      "cell_type": "code",
      "execution_count": 25,
      "metadata": {
        "id": "KrlvFubpqBeS",
        "colab": {
          "base_uri": "https://localhost:8080/"
        },
        "outputId": "f52e98fa-37e0-40fb-e5a5-b6c99e65683f"
      },
      "outputs": [
        {
          "output_type": "stream",
          "name": "stdout",
          "text": [
            "Epoch 1/15\n",
            "112/112 [==============================] - 2s 7ms/step - loss: 0.6123 - accuracy: 0.7956 - precision: 0.0655 - recall: 0.2414 - val_loss: 0.4984 - val_accuracy: 0.9511 - val_precision: 0.0000e+00 - val_recall: 0.0000e+00\n",
            "Epoch 2/15\n",
            "112/112 [==============================] - 0s 4ms/step - loss: 0.3972 - accuracy: 0.9514 - precision: 0.0000e+00 - recall: 0.0000e+00 - val_loss: 0.3144 - val_accuracy: 0.9511 - val_precision: 0.0000e+00 - val_recall: 0.0000e+00\n",
            "Epoch 3/15\n",
            "112/112 [==============================] - 0s 3ms/step - loss: 0.2769 - accuracy: 0.9514 - precision: 0.0000e+00 - recall: 0.0000e+00 - val_loss: 0.2490 - val_accuracy: 0.9511 - val_precision: 0.0000e+00 - val_recall: 0.0000e+00\n",
            "Epoch 4/15\n",
            "112/112 [==============================] - 0s 3ms/step - loss: 0.2387 - accuracy: 0.9514 - precision: 0.0000e+00 - recall: 0.0000e+00 - val_loss: 0.2288 - val_accuracy: 0.9511 - val_precision: 0.0000e+00 - val_recall: 0.0000e+00\n",
            "Epoch 5/15\n",
            "112/112 [==============================] - 0s 4ms/step - loss: 0.2253 - accuracy: 0.9514 - precision: 0.0000e+00 - recall: 0.0000e+00 - val_loss: 0.2203 - val_accuracy: 0.9511 - val_precision: 0.0000e+00 - val_recall: 0.0000e+00\n",
            "Epoch 6/15\n",
            "112/112 [==============================] - 0s 4ms/step - loss: 0.2182 - accuracy: 0.9514 - precision: 0.0000e+00 - recall: 0.0000e+00 - val_loss: 0.2148 - val_accuracy: 0.9511 - val_precision: 0.0000e+00 - val_recall: 0.0000e+00\n",
            "Epoch 7/15\n",
            "112/112 [==============================] - 0s 4ms/step - loss: 0.2127 - accuracy: 0.9514 - precision: 0.0000e+00 - recall: 0.0000e+00 - val_loss: 0.2101 - val_accuracy: 0.9511 - val_precision: 0.0000e+00 - val_recall: 0.0000e+00\n",
            "Epoch 8/15\n",
            "112/112 [==============================] - 0s 4ms/step - loss: 0.2078 - accuracy: 0.9514 - precision: 0.0000e+00 - recall: 0.0000e+00 - val_loss: 0.2055 - val_accuracy: 0.9511 - val_precision: 0.0000e+00 - val_recall: 0.0000e+00\n",
            "Epoch 9/15\n",
            "112/112 [==============================] - 0s 4ms/step - loss: 0.2032 - accuracy: 0.9514 - precision: 0.0000e+00 - recall: 0.0000e+00 - val_loss: 0.2017 - val_accuracy: 0.9511 - val_precision: 0.0000e+00 - val_recall: 0.0000e+00\n",
            "Epoch 10/15\n",
            "112/112 [==============================] - 0s 4ms/step - loss: 0.1989 - accuracy: 0.9514 - precision: 0.0000e+00 - recall: 0.0000e+00 - val_loss: 0.1981 - val_accuracy: 0.9511 - val_precision: 0.0000e+00 - val_recall: 0.0000e+00\n",
            "Epoch 11/15\n",
            "112/112 [==============================] - 0s 4ms/step - loss: 0.1953 - accuracy: 0.9514 - precision: 0.0000e+00 - recall: 0.0000e+00 - val_loss: 0.1948 - val_accuracy: 0.9511 - val_precision: 0.0000e+00 - val_recall: 0.0000e+00\n",
            "Epoch 12/15\n",
            "112/112 [==============================] - 1s 5ms/step - loss: 0.1918 - accuracy: 0.9514 - precision: 0.0000e+00 - recall: 0.0000e+00 - val_loss: 0.1919 - val_accuracy: 0.9511 - val_precision: 0.0000e+00 - val_recall: 0.0000e+00\n",
            "Epoch 13/15\n",
            "112/112 [==============================] - 0s 4ms/step - loss: 0.1888 - accuracy: 0.9514 - precision: 0.0000e+00 - recall: 0.0000e+00 - val_loss: 0.1891 - val_accuracy: 0.9511 - val_precision: 0.0000e+00 - val_recall: 0.0000e+00\n",
            "Epoch 14/15\n",
            "112/112 [==============================] - 0s 4ms/step - loss: 0.1862 - accuracy: 0.9514 - precision: 0.0000e+00 - recall: 0.0000e+00 - val_loss: 0.1868 - val_accuracy: 0.9511 - val_precision: 0.0000e+00 - val_recall: 0.0000e+00\n",
            "Epoch 15/15\n",
            "112/112 [==============================] - 1s 5ms/step - loss: 0.1841 - accuracy: 0.9514 - precision: 0.0000e+00 - recall: 0.0000e+00 - val_loss: 0.1847 - val_accuracy: 0.9511 - val_precision: 0.0000e+00 - val_recall: 0.0000e+00\n"
          ]
        }
      ],
      "source": [
        "history = model.fit(x_train, y_train, validation_data=(x_val, y_val), epochs=15)"
      ]
    },
    {
      "cell_type": "markdown",
      "metadata": {
        "id": "voqUo00lAqCZ"
      },
      "source": [
        "# Improving DL Models"
      ]
    },
    {
      "cell_type": "markdown",
      "source": [
        "**Question 11:** Suggest ways to improve your model"
      ],
      "metadata": {
        "id": "Op2Frp44uSiX"
      }
    },
    {
      "cell_type": "markdown",
      "metadata": {
        "id": "IImSYWQGBSz6"
      },
      "source": [
        "### Checking For Data Imbalance"
      ]
    },
    {
      "cell_type": "markdown",
      "metadata": {
        "id": "ZHxCONODMkNN"
      },
      "source": [
        "We check for imbalance because we have a poor recall and precision."
      ]
    },
    {
      "cell_type": "code",
      "execution_count": 28,
      "metadata": {
        "id": "1bF6G8c58SOE",
        "colab": {
          "base_uri": "https://localhost:8080/",
          "height": 448
        },
        "outputId": "8e2e915c-5db1-4ef3-cfb8-c080d5fd9763"
      },
      "outputs": [
        {
          "output_type": "execute_result",
          "data": {
            "text/plain": [
              "<Axes: >"
            ]
          },
          "metadata": {},
          "execution_count": 28
        },
        {
          "output_type": "display_data",
          "data": {
            "text/plain": [
              "<Figure size 640x480 with 1 Axes>"
            ],
            "image/png": "[encoded data removed]"
          },
          "metadata": {}
        }
      ],
      "source": [
        "import matplotlib.pyplot as plt\n",
        "\n",
        "data['stroke'].hist()"
      ]
    },
    {
      "cell_type": "markdown",
      "metadata": {
        "id": "gzZBB5GMCOld"
      },
      "source": [
        "We have a huge imbalance in the data, this is why we fix it with oversamppling and undersampling.\n",
        "\n",
        "We will oversample this time using the SMOTE() function instead of random oversampling, and this is because SMOTE will generate new data based on the data that we have, so we avoid overfitting."
      ]
    },
    {
      "cell_type": "code",
      "execution_count": 29,
      "metadata": {
        "id": "US4xON4LBX8I",
        "colab": {
          "base_uri": "https://localhost:8080/",
          "height": 503
        },
        "outputId": "f7e6b621-0e80-4e8a-aa77-eb307fffa358"
      },
      "outputs": [
        {
          "output_type": "execute_result",
          "data": {
            "text/plain": [
              "(array([4861.,    0.,    0.,    0.,    0.,    0.,    0.,    0.,    0.,\n",
              "        4861.]),\n",
              " array([0. , 0.1, 0.2, 0.3, 0.4, 0.5, 0.6, 0.7, 0.8, 0.9, 1. ]),\n",
              " <BarContainer object of 10 artists>)"
            ]
          },
          "metadata": {},
          "execution_count": 29
        },
        {
          "output_type": "display_data",
          "data": {
            "text/plain": [
              "<Figure size 640x480 with 1 Axes>"
            ],
            "image/png": "[encoded data removed]"
          },
          "metadata": {}
        }
      ],
      "source": [
        "from imblearn.over_sampling import SMOTE\n",
        "\n",
        "over = SMOTE()\n",
        "x_new, y_new = over.fit_resample(x, y)\n",
        "\n",
        "\n",
        "plt.hist([y_new])"
      ]
    },
    {
      "cell_type": "markdown",
      "metadata": {
        "id": "OmfeUhi1ezb9"
      },
      "source": [
        "Split the balanced dataset between 90% (training and validation), 10% testing\n",
        "Then divide the 90% between 80% training and 20% validation"
      ]
    },
    {
      "cell_type": "code",
      "execution_count": 30,
      "metadata": {
        "id": "IxnYFoPZezb-"
      },
      "outputs": [],
      "source": [
        "from sklearn.model_selection import train_test_split\n",
        "\n",
        "\n",
        "x_train_val, x_test, y_train_val, y_test = train_test_split(x_new, y_new, test_size=0.1, stratify=y_new)\n",
        "x_train, x_val, y_train, y_val = train_test_split(x_train_val, y_train_val, test_size=0.2, stratify=y_train_val)"
      ]
    },
    {
      "cell_type": "markdown",
      "metadata": {
        "id": "dgyxF74oezcA"
      },
      "source": [
        "Now we will train the model on the balanced data, and tune it on the validation set"
      ]
    },
    {
      "cell_type": "code",
      "execution_count": 31,
      "metadata": {
        "id": "26YTispLEm9N",
        "colab": {
          "base_uri": "https://localhost:8080/"
        },
        "outputId": "c1c38ba2-6249-46bf-a4af-90c75d993e0c"
      },
      "outputs": [
        {
          "output_type": "stream",
          "name": "stdout",
          "text": [
            "Epoch 1/15\n",
            "219/219 [==============================] - 2s 10ms/step - loss: 0.5872 - accuracy: 0.7354 - precision: 0.7620 - recall: 0.6845 - val_loss: 0.5269 - val_accuracy: 0.7560 - val_precision: 0.7272 - val_recall: 0.8194\n",
            "Epoch 2/15\n",
            "219/219 [==============================] - 2s 7ms/step - loss: 0.5043 - accuracy: 0.7753 - precision: 0.7526 - recall: 0.8199 - val_loss: 0.5113 - val_accuracy: 0.7583 - val_precision: 0.7335 - val_recall: 0.8114\n",
            "Epoch 3/15\n",
            "219/219 [==============================] - 1s 4ms/step - loss: 0.4906 - accuracy: 0.7783 - precision: 0.7560 - recall: 0.8217 - val_loss: 0.5034 - val_accuracy: 0.7623 - val_precision: 0.7587 - val_recall: 0.7691\n",
            "Epoch 4/15\n",
            "219/219 [==============================] - 1s 3ms/step - loss: 0.4809 - accuracy: 0.7810 - precision: 0.7591 - recall: 0.8231 - val_loss: 0.4943 - val_accuracy: 0.7629 - val_precision: 0.7381 - val_recall: 0.8149\n",
            "Epoch 5/15\n",
            "219/219 [==============================] - 1s 3ms/step - loss: 0.4747 - accuracy: 0.7817 - precision: 0.7583 - recall: 0.8268 - val_loss: 0.4901 - val_accuracy: 0.7669 - val_precision: 0.7497 - val_recall: 0.8011\n",
            "Epoch 6/15\n",
            "219/219 [==============================] - 1s 2ms/step - loss: 0.4702 - accuracy: 0.7801 - precision: 0.7560 - recall: 0.8271 - val_loss: 0.4868 - val_accuracy: 0.7657 - val_precision: 0.7466 - val_recall: 0.8046\n",
            "Epoch 7/15\n",
            "219/219 [==============================] - 1s 2ms/step - loss: 0.4670 - accuracy: 0.7827 - precision: 0.7623 - recall: 0.8214 - val_loss: 0.4844 - val_accuracy: 0.7663 - val_precision: 0.7382 - val_recall: 0.8251\n",
            "Epoch 8/15\n",
            "219/219 [==============================] - 1s 3ms/step - loss: 0.4651 - accuracy: 0.7828 - precision: 0.7607 - recall: 0.8251 - val_loss: 0.4833 - val_accuracy: 0.7686 - val_precision: 0.7489 - val_recall: 0.8080\n",
            "Epoch 9/15\n",
            "219/219 [==============================] - 0s 2ms/step - loss: 0.4628 - accuracy: 0.7834 - precision: 0.7615 - recall: 0.8251 - val_loss: 0.4828 - val_accuracy: 0.7691 - val_precision: 0.7396 - val_recall: 0.8309\n",
            "Epoch 10/15\n",
            "219/219 [==============================] - 1s 3ms/step - loss: 0.4617 - accuracy: 0.7810 - precision: 0.7579 - recall: 0.8257 - val_loss: 0.4842 - val_accuracy: 0.7623 - val_precision: 0.7576 - val_recall: 0.7714\n",
            "Epoch 11/15\n",
            "219/219 [==============================] - 1s 3ms/step - loss: 0.4615 - accuracy: 0.7830 - precision: 0.7626 - recall: 0.8217 - val_loss: 0.4813 - val_accuracy: 0.7674 - val_precision: 0.7432 - val_recall: 0.8171\n",
            "Epoch 12/15\n",
            "219/219 [==============================] - 1s 4ms/step - loss: 0.4609 - accuracy: 0.7821 - precision: 0.7618 - recall: 0.8208 - val_loss: 0.4814 - val_accuracy: 0.7646 - val_precision: 0.7355 - val_recall: 0.8263\n",
            "Epoch 13/15\n",
            "219/219 [==============================] - 1s 4ms/step - loss: 0.4602 - accuracy: 0.7813 - precision: 0.7587 - recall: 0.8248 - val_loss: 0.4811 - val_accuracy: 0.7680 - val_precision: 0.7546 - val_recall: 0.7943\n",
            "Epoch 14/15\n",
            "219/219 [==============================] - 1s 4ms/step - loss: 0.4600 - accuracy: 0.7825 - precision: 0.7631 - recall: 0.8194 - val_loss: 0.4807 - val_accuracy: 0.7680 - val_precision: 0.7455 - val_recall: 0.8137\n",
            "Epoch 15/15\n",
            "219/219 [==============================] - 1s 4ms/step - loss: 0.4593 - accuracy: 0.7817 - precision: 0.7608 - recall: 0.8217 - val_loss: 0.4804 - val_accuracy: 0.7646 - val_precision: 0.7481 - val_recall: 0.7977\n"
          ]
        }
      ],
      "source": [
        "history = model.fit(x_train, y_train, validation_data=(x_val, y_val), epochs=15)"
      ]
    },
    {
      "cell_type": "markdown",
      "metadata": {
        "id": "wAhUAu5JezcC"
      },
      "source": [
        "Evaluate your model on the test set that you kept aside at the beginning."
      ]
    },
    {
      "cell_type": "code",
      "execution_count": 32,
      "metadata": {
        "id": "utTyIgJLezcD",
        "colab": {
          "base_uri": "https://localhost:8080/"
        },
        "outputId": "9d93ff52-9b1d-4dc5-ae86-73b64568ff1a"
      },
      "outputs": [
        {
          "output_type": "stream",
          "name": "stdout",
          "text": [
            "31/31 [==============================] - 0s 3ms/step - loss: 0.4482 - accuracy: 0.7955 - precision: 0.7846 - recall: 0.8152\n"
          ]
        },
        {
          "output_type": "execute_result",
          "data": {
            "text/plain": [
              "[0.44819846749305725,\n",
              " 0.7954779267311096,\n",
              " 0.7845849990844727,\n",
              " 0.8151950836181641]"
            ]
          },
          "metadata": {},
          "execution_count": 32
        }
      ],
      "source": [
        "model.evaluate(x_test, y_test)"
      ]
    },
    {
      "cell_type": "markdown",
      "metadata": {
        "id": "hhfhpIaWGtz2"
      },
      "source": [
        "We see that the performance gets better when our data became balanced.\n",
        "Now we will try improving our model with other techniques that we learned through the week."
      ]
    },
    {
      "cell_type": "markdown",
      "metadata": {
        "id": "ngJVLbRKG7U_"
      },
      "source": [
        "### Model Design"
      ]
    },
    {
      "cell_type": "markdown",
      "metadata": {
        "id": "sMdcXspCHxIo"
      },
      "source": [
        "We will introduce batch normalization after each layer and then train the model"
      ]
    },
    {
      "cell_type": "code",
      "execution_count": 35,
      "metadata": {
        "id": "yK78-g-hHrmq",
        "colab": {
          "base_uri": "https://localhost:8080/"
        },
        "outputId": "119846a6-f9ff-48cb-cdb4-6b2a6675c42f"
      },
      "outputs": [
        {
          "output_type": "stream",
          "name": "stdout",
          "text": [
            "Model: \"sequential_3\"\n",
            "_________________________________________________________________\n",
            " Layer (type)                Output Shape              Param #   \n",
            "=================================================================\n",
            " dense_10 (Dense)            (None, 32)                256       \n",
            "                                                                 \n",
            " batch_normalization_5 (Bat  (None, 32)                128       \n",
            " chNormalization)                                                \n",
            "                                                                 \n",
            " dense_11 (Dense)            (None, 16)                528       \n",
            "                                                                 \n",
            " batch_normalization_6 (Bat  (None, 16)                64        \n",
            " chNormalization)                                                \n",
            "                                                                 \n",
            " dense_12 (Dense)            (None, 8)                 136       \n",
            "                                                                 \n",
            " batch_normalization_7 (Bat  (None, 8)                 32        \n",
            " chNormalization)                                                \n",
            "                                                                 \n",
            " dense_13 (Dense)            (None, 4)                 36        \n",
            "                                                                 \n",
            " batch_normalization_8 (Bat  (None, 4)                 16        \n",
            " chNormalization)                                                \n",
            "                                                                 \n",
            " dense_14 (Dense)            (None, 2)                 10        \n",
            "                                                                 \n",
            " batch_normalization_9 (Bat  (None, 2)                 8         \n",
            " chNormalization)                                                \n",
            "                                                                 \n",
            " dense_15 (Dense)            (None, 1)                 3         \n",
            "                                                                 \n",
            "=================================================================\n",
            "Total params: 1217 (4.75 KB)\n",
            "Trainable params: 1093 (4.27 KB)\n",
            "Non-trainable params: 124 (496.00 Byte)\n",
            "_________________________________________________________________\n"
          ]
        }
      ],
      "source": [
        "from tensorflow.keras.layers import BatchNormalization\n",
        "model = Sequential()\n",
        "\n",
        "model.add(Dense(32, input_dim=7, activation='relu'))\n",
        "model.add(BatchNormalization())\n",
        "model.add(Dense(16, activation='relu'))\n",
        "model.add(BatchNormalization())\n",
        "model.add(Dense(8, activation='relu'))\n",
        "model.add(BatchNormalization())\n",
        "model.add(Dense(4, activation='relu'))\n",
        "model.add(BatchNormalization())\n",
        "model.add(Dense(2, activation='relu'))\n",
        "model.add(BatchNormalization())\n",
        "model.add(Dense(1, activation='sigmoid'))\n",
        "\n",
        "model.summary()\n"
      ]
    },
    {
      "cell_type": "code",
      "execution_count": 36,
      "metadata": {
        "id": "REDrQVWLJLs5",
        "colab": {
          "base_uri": "https://localhost:8080/"
        },
        "outputId": "77be1bb3-b9ef-42e7-ce92-0915c185d565"
      },
      "outputs": [
        {
          "output_type": "stream",
          "name": "stdout",
          "text": [
            "Epoch 1/15\n",
            "219/219 [==============================] - 6s 10ms/step - loss: 0.5569 - accuracy: 0.7344 - precision: 0.7420 - recall: 0.7185 - val_loss: 0.5675 - val_accuracy: 0.7629 - val_precision: 0.7050 - val_recall: 0.9040\n",
            "Epoch 2/15\n",
            "219/219 [==============================] - 1s 6ms/step - loss: 0.4885 - accuracy: 0.7791 - precision: 0.7474 - recall: 0.8431 - val_loss: 0.4984 - val_accuracy: 0.7463 - val_precision: 0.6742 - val_recall: 0.9531\n",
            "Epoch 3/15\n",
            "219/219 [==============================] - 1s 4ms/step - loss: 0.4592 - accuracy: 0.7884 - precision: 0.7511 - recall: 0.8625 - val_loss: 0.4537 - val_accuracy: 0.7720 - val_precision: 0.7212 - val_recall: 0.8869\n",
            "Epoch 4/15\n",
            "219/219 [==============================] - 1s 5ms/step - loss: 0.4462 - accuracy: 0.7987 - precision: 0.7616 - recall: 0.8694 - val_loss: 0.4621 - val_accuracy: 0.7766 - val_precision: 0.7314 - val_recall: 0.8743\n",
            "Epoch 5/15\n",
            "219/219 [==============================] - 1s 5ms/step - loss: 0.4495 - accuracy: 0.7867 - precision: 0.7596 - recall: 0.8388 - val_loss: 0.4396 - val_accuracy: 0.7863 - val_precision: 0.7449 - val_recall: 0.8709\n",
            "Epoch 6/15\n",
            "219/219 [==============================] - 1s 5ms/step - loss: 0.4392 - accuracy: 0.7967 - precision: 0.7569 - recall: 0.8740 - val_loss: 0.4390 - val_accuracy: 0.7989 - val_precision: 0.7618 - val_recall: 0.8697\n",
            "Epoch 7/15\n",
            "219/219 [==============================] - 1s 5ms/step - loss: 0.4392 - accuracy: 0.7991 - precision: 0.7610 - recall: 0.8720 - val_loss: 0.4445 - val_accuracy: 0.7886 - val_precision: 0.7179 - val_recall: 0.9509\n",
            "Epoch 8/15\n",
            "219/219 [==============================] - 1s 4ms/step - loss: 0.4339 - accuracy: 0.8028 - precision: 0.7568 - recall: 0.8923 - val_loss: 0.4312 - val_accuracy: 0.7949 - val_precision: 0.7411 - val_recall: 0.9063\n",
            "Epoch 9/15\n",
            "219/219 [==============================] - 1s 5ms/step - loss: 0.4279 - accuracy: 0.8053 - precision: 0.7614 - recall: 0.8891 - val_loss: 0.4268 - val_accuracy: 0.8120 - val_precision: 0.7605 - val_recall: 0.9109\n",
            "Epoch 10/15\n",
            "219/219 [==============================] - 1s 4ms/step - loss: 0.4258 - accuracy: 0.8063 - precision: 0.7610 - recall: 0.8928 - val_loss: 0.4308 - val_accuracy: 0.8051 - val_precision: 0.7414 - val_recall: 0.9371\n",
            "Epoch 11/15\n",
            "219/219 [==============================] - 1s 5ms/step - loss: 0.4278 - accuracy: 0.8033 - precision: 0.7569 - recall: 0.8934 - val_loss: 0.4181 - val_accuracy: 0.8097 - val_precision: 0.7586 - val_recall: 0.9086\n",
            "Epoch 12/15\n",
            "219/219 [==============================] - 1s 7ms/step - loss: 0.4270 - accuracy: 0.8041 - precision: 0.7634 - recall: 0.8814 - val_loss: 0.4191 - val_accuracy: 0.8166 - val_precision: 0.7532 - val_recall: 0.9417\n",
            "Epoch 13/15\n",
            "219/219 [==============================] - 1s 7ms/step - loss: 0.4236 - accuracy: 0.8105 - precision: 0.7645 - recall: 0.8974 - val_loss: 0.4289 - val_accuracy: 0.8034 - val_precision: 0.7555 - val_recall: 0.8971\n",
            "Epoch 14/15\n",
            "219/219 [==============================] - 2s 7ms/step - loss: 0.4097 - accuracy: 0.8153 - precision: 0.7688 - recall: 0.9017 - val_loss: 0.4176 - val_accuracy: 0.8183 - val_precision: 0.7766 - val_recall: 0.8937\n",
            "Epoch 15/15\n",
            "219/219 [==============================] - 1s 5ms/step - loss: 0.4122 - accuracy: 0.8110 - precision: 0.7664 - recall: 0.8945 - val_loss: 0.4198 - val_accuracy: 0.8120 - val_precision: 0.7656 - val_recall: 0.8994\n"
          ]
        }
      ],
      "source": [
        "model.compile(optimizer='adam', loss='binary_crossentropy', metrics=['accuracy', 'Precision', 'Recall'])\n",
        "\n",
        "history2 = model.fit(x_train, y_train, validation_data=(x_val, y_val), epochs=15)"
      ]
    },
    {
      "cell_type": "code",
      "execution_count": 37,
      "metadata": {
        "id": "eenpPyr_ezcH",
        "colab": {
          "base_uri": "https://localhost:8080/"
        },
        "outputId": "fbdee720-71c2-4150-eab5-4473c6296878"
      },
      "outputs": [
        {
          "output_type": "stream",
          "name": "stdout",
          "text": [
            "31/31 [==============================] - 0s 2ms/step - loss: 0.3886 - accuracy: 0.8325 - precision: 0.7872 - recall: 0.9117\n"
          ]
        },
        {
          "output_type": "execute_result",
          "data": {
            "text/plain": [
              "[0.38863372802734375,\n",
              " 0.8324768543243408,\n",
              " 0.7872340679168701,\n",
              " 0.9117043018341064]"
            ]
          },
          "metadata": {},
          "execution_count": 37
        }
      ],
      "source": [
        "model.evaluate(x_test, y_test)"
      ]
    },
    {
      "cell_type": "markdown",
      "metadata": {
        "id": "hhkSEThVKEdm"
      },
      "source": [
        "We see that we are achieving better metrics with batch normalization."
      ]
    }
  ],
  "metadata": {
    "colab": {
      "collapsed_sections": [
        "d1GOfAgt4M-Q",
        "KICuY0lg5nUD",
        "AD57fE2n7QP4",
        "U5zevRH57X8v",
        "IImSYWQGBSz6",
        "ngJVLbRKG7U_",
        "mXf6cpO_KWTs"
      ],
      "provenance": []
    },
    "kernelspec": {
      "display_name": "Python 3.10.5 64-bit",
      "language": "python",
      "name": "python3"
    },
    "language_info": {
      "codemirror_mode": {
        "name": "ipython",
        "version": 3
      },
      "file_extension": ".py",
      "mimetype": "text/x-python",
      "name": "python",
      "nbconvert_exporter": "python",
      "pygments_lexer": "ipython3",
      "version": "3.10.5"
    },
    "vscode": {
      "interpreter": {
        "hash": "8c3d4d9970fc5c09c50d9318a9c7fbf4d0159e4b28833276f5678ee22bded273"
      }
    }
  },
  "nbformat": 4,
  "nbformat_minor": 0
}